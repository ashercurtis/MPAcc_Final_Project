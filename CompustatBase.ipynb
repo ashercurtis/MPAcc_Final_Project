{
 "cells": [
  {
   "cell_type": "code",
   "execution_count": 1,
   "metadata": {},
   "outputs": [
    {
     "name": "stdout",
     "output_type": "stream",
     "text": [
      "Enter your WRDS username [abcurtis]:asher\n",
      "Enter your password:········\n",
      "WRDS recommends setting up a .pgpass file.\n",
      "You can find more info here:\n",
      "https://www.postgresql.org/docs/9.5/static/libpq-pgpass.html.\n",
      "Loading library list...\n",
      "Done\n"
     ]
    }
   ],
   "source": [
    "import pandas as pd\n",
    "import numpy as np\n",
    "import datetime as dt\n",
    "import wrds\n",
    "import psycopg2 \n",
    "import matplotlib.pyplot as plt\n",
    "from dateutil.relativedelta import *\n",
    "from pandas.tseries.offsets import *\n",
    "from scipy import stats\n",
    "\n",
    "## Direct Python to where you want to save the data\n",
    "# Remember to include double slashes \n",
    "csvFilePath = \"D:\\\\GoogleDrive\\\\mpacc_final_project\\\\compustatBase.csv\"\n",
    "\n",
    "## Python will prompt you to enter your user name and password for WRDS\n",
    "# Remember to use your MPAcc class details\n",
    "\n",
    "#This part of the code will request data from WRDS\n",
    "db = wrds.Connection(wrds_username='uwmpacc1')\n",
    "\n",
    "#get cik for merge with audit analytics\n",
    "names = db.raw_sql(\"\"\"\n",
    "                  select conm, ipodate, cik, gvkey, stko from comp.company\n",
    "                  where stko = 0\n",
    "                \"\"\")\n",
    "\n",
    "#get exchange that the company is traded on\n",
    "exch = db.raw_sql(\"\"\"\n",
    "                    select gvkey, datadate, exchg from comp.secm\n",
    "                    where exchg in (11,12,13,14)\n",
    "                \"\"\")\n",
    "\n",
    "# Get compustat variables this section will be updated for part C when we estimate a multiple logistic regression\n",
    "comp0 = db.raw_sql(\"\"\"\n",
    "                  select gvkey, fyear, AT, datadate  from comp.funda\n",
    "                    where indfmt='INDL' \n",
    "                    and datafmt='STD'\n",
    "                    and popsrc='D'\n",
    "                    and consol='C'\n",
    "                    and fyear >= '2010'\n",
    "                \"\"\")\n",
    "\n",
    "comp=pd.merge(names, comp0, how='inner', on=['gvkey'])\n",
    "comp=pd.merge(comp,exch, how='inner', on=['gvkey', 'datadate'])\n",
    "\n",
    "#write the data to a csv file\n",
    "comp.to_csv(csvFilePath)"
   ]
  },
  {
   "cell_type": "code",
   "execution_count": null,
   "metadata": {},
   "outputs": [],
   "source": []
  }
 ],
 "metadata": {
  "kernelspec": {
   "display_name": "Python 3",
   "language": "python",
   "name": "python3"
  },
  "language_info": {
   "codemirror_mode": {
    "name": "ipython",
    "version": 3
   },
   "file_extension": ".py",
   "mimetype": "text/x-python",
   "name": "python",
   "nbconvert_exporter": "python",
   "pygments_lexer": "ipython3",
   "version": "3.6.5"
  }
 },
 "nbformat": 4,
 "nbformat_minor": 2
}
